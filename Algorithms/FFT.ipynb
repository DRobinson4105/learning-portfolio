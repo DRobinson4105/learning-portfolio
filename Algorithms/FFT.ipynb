{
 "cells": [
  {
   "cell_type": "markdown",
   "metadata": {
    "vscode": {
     "languageId": "latex"
    }
   },
   "source": [
    "# Fast Fourier Transform\n",
    "\n",
    "Uses of FFT:\n",
    "1. Solving partial differential equations\n",
    "2. Denoising data\n",
    "3. Analysis of data\n",
    "4. Compression of audio and images\n",
    "\n",
    "Discrete Fourier Transform Equation: $X_k=\\sum^{n-1}_{m=0}x_me^{-i2\\pi km/n}$\n",
    "\n",
    "Inverse Discrete Fourier Transform Equation: $X_k=\\frac{1}{n}\\sum^{n-1}_{m=0}x_me^{i2\\pi km/n}$"
   ]
  },
  {
   "cell_type": "code",
   "execution_count": null,
   "metadata": {},
   "outputs": [],
   "source": [
    "%pip install -q numpy matplotlib\n",
    "import numpy as np\n",
    "import matplotlib.pyplot as plt"
   ]
  },
  {
   "cell_type": "code",
   "execution_count": null,
   "metadata": {},
   "outputs": [],
   "source": [
    "def DFT_slow(x):\n",
    "    \"\"\"Compute the discrete Fourier Transform of the 1D array x\"\"\"\n",
    "    x = np.asarray(x, dtype=float)\n",
    "    N = x.shape[0]\n",
    "    n = np.arange(N)\n",
    "    k = n.reshape((N, 1))\n",
    "    M = np.exp(-2j * np.pi * k * n / N)\n",
    "    return np.dot(M, x)"
   ]
  },
  {
   "cell_type": "code",
   "execution_count": null,
   "metadata": {},
   "outputs": [],
   "source": [
    "def FFT(x):\n",
    "    x = np.asarray(x, dtype=float)\n",
    "    N = x.shape[0]\n",
    "    \n",
    "    if N == 1:\n",
    "        return x\n",
    "    elif N % 2 > 0:\n",
    "        raise ValueError(\"w\")\n",
    "    else:\n",
    "        even = FFT(x[::2])\n",
    "        odd = FFT(x[1::2])\n",
    "        factor = np.exp(-2j * np.pi * np.arange(N) / N)\n",
    "        return np.concatenate([even + factor[:N//2] * odd, even + factor[N//2:] * odd])"
   ]
  },
  {
   "cell_type": "code",
   "execution_count": null,
   "metadata": {},
   "outputs": [],
   "source": [
    "x = np.random.random(1024)\n",
    "np.allclose(FFT(x), np.fft.fft(x))"
   ]
  },
  {
   "cell_type": "markdown",
   "metadata": {},
   "source": [
    "Create a simple signal with two frequencies as a function and then another function with some noise"
   ]
  },
  {
   "cell_type": "code",
   "execution_count": null,
   "metadata": {},
   "outputs": [],
   "source": [
    "plt.rcParams['figure.figsize'] = [16, 12]\n",
    "plt.rcParams.update({'font.size': 18})\n",
    "\n",
    "dt = 0.001\n",
    "t = np.arange(0, 1, dt)\n",
    "f = np.sin(2*np.pi*50*t) + np.sin(2*np.pi*120*t)\n",
    "f_clean = f\n",
    "f = f + 2.5 * np.random.randn(len(t))\n",
    "\n",
    "plt.plot(t, f, color='c', linewidth=1.5, label='Noisy')\n",
    "plt.plot(t, f_clean, color='k', linewidth=2, label='Clean')\n",
    "plt.xlim(t[0], t[-1])\n",
    "plt.legend()\n",
    "\n",
    "plt.show()"
   ]
  },
  {
   "cell_type": "markdown",
   "metadata": {},
   "source": [
    "Compute Fast Fourier Transform on noisy function"
   ]
  },
  {
   "cell_type": "code",
   "execution_count": null,
   "metadata": {},
   "outputs": [],
   "source": [
    "N = len(t)\n",
    "fhat = np.fft.fft(f, N)\n",
    "psd = fhat * np.conj(fhat) / N\n",
    "freq = 1 / (dt * N) * np.arange(N)\n",
    "l = np.arange(1, np.floor(N/2), dtype='int')\n",
    "\n",
    "fig, axis = plt.subplots(2, 1)\n",
    "\n",
    "plt.sca(axis[0])\n",
    "plt.plot(t, f, color='c', linewidth=1.5, label='Noisy')\n",
    "plt.plot(t, f_clean, color='k', linewidth=2, label='Clean')\n",
    "plt.xlim(t[0], t[-1])\n",
    "plt.legend()\n",
    "\n",
    "plt.sca(axis[1])\n",
    "plt.plot(freq[l], psd[l], color='c', linewidth=2, label='Noisy')\n",
    "plt.xlim(freq[l[0]], freq[l[-1]])\n",
    "plt.legend()\n",
    "\n",
    "plt.show()"
   ]
  },
  {
   "cell_type": "markdown",
   "metadata": {},
   "source": [
    "Use Inverse Fast Fourier Transform to filter out noise"
   ]
  },
  {
   "cell_type": "code",
   "execution_count": null,
   "metadata": {},
   "outputs": [],
   "source": [
    "indices = psd > 100\n",
    "psd_clean = psd * indices\n",
    "fhat = indices * fhat\n",
    "ffilt = np.fft.ifft(fhat)"
   ]
  },
  {
   "cell_type": "code",
   "execution_count": null,
   "metadata": {},
   "outputs": [],
   "source": [
    "fig, axis = plt.subplots(3, 1)\n",
    "\n",
    "plt.sca(axis[0])\n",
    "plt.plot(t, f, color='c', linewidth=1.5, label='Noisy')\n",
    "plt.plot(t, f_clean, color='k', linewidth=2, label='Clean')\n",
    "plt.xlim(t[0], t[-1])\n",
    "plt.legend()\n",
    "\n",
    "plt.sca(axis[1])\n",
    "plt.plot(t, ffilt, color='k', linewidth=2, label='Filtered')\n",
    "plt.xlim(t[0], t[-1])\n",
    "plt.legend()\n",
    "\n",
    "plt.sca(axis[2])\n",
    "plt.plot(freq[l], psd[l], color='c', linewidth=2, label='Noisy')\n",
    "plt.plot(freq[l], psd_clean[l], color='k', linewidth=1.5, label='Filtered')\n",
    "plt.xlim(freq[l[0]], freq[l[-1]])\n",
    "plt.legend()\n",
    "\n",
    "plt.show()"
   ]
  }
 ],
 "metadata": {
  "kernelspec": {
   "display_name": ".venv",
   "language": "python",
   "name": "python3"
  },
  "language_info": {
   "codemirror_mode": {
    "name": "ipython",
    "version": 3
   },
   "file_extension": ".py",
   "mimetype": "text/x-python",
   "name": "python",
   "nbconvert_exporter": "python",
   "pygments_lexer": "ipython3",
   "version": "3.11.9"
  }
 },
 "nbformat": 4,
 "nbformat_minor": 2
}
