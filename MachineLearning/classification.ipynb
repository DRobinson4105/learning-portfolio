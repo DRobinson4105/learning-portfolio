{
 "cells": [
  {
   "cell_type": "code",
   "execution_count": null,
   "metadata": {},
   "outputs": [],
   "source": [
    "from sklearn.datasets import make_circles, make_blobs\n",
    "from sklearn.model_selection import train_test_split\n",
    "import pandas as pd\n",
    "import matplotlib.pyplot as plt\n",
    "import torch\n",
    "from torch import nn\n",
    "from pathlib import Path\n",
    "from helper_functions import plot_decision_boundary\n",
    "\n",
    "# Path to models directory\n",
    "MODEL_PATH = Path(\"models\")\n",
    "MODEL_PATH.mkdir(parents=True, exist_ok=True)\n",
    "\n",
    "# Device agnostic code\n",
    "device = \"cuda\" if torch.cuda.is_available() else \"cpu\"\n",
    "\n",
    "print(torch.__version__)\n",
    "print(f\"Using device: {device}\")"
   ]
  },
  {
   "cell_type": "markdown",
   "metadata": {},
   "source": [
    "# Make classification data"
   ]
  },
  {
   "cell_type": "code",
   "execution_count": null,
   "metadata": {},
   "outputs": [],
   "source": [
    "NUM_SAMPLES = 1000\n",
    "\n",
    "X, y = make_circles(NUM_SAMPLES, noise=0.03, random_state=42)\n",
    "len(X), len(y)"
   ]
  },
  {
   "cell_type": "code",
   "execution_count": null,
   "metadata": {},
   "outputs": [],
   "source": [
    "print(f\"First five samples of X:\\n {X[:5]}\")\n",
    "print(f\"First five samples of y:\\n {y[:5]}\")"
   ]
  },
  {
   "cell_type": "markdown",
   "metadata": {},
   "source": [
    "### Make DataFrame"
   ]
  },
  {
   "cell_type": "code",
   "execution_count": null,
   "metadata": {},
   "outputs": [],
   "source": [
    "circles = pd.DataFrame({\"X1\": X[:, 0], \"X2\": X[:, 1], \"label\": y})\n",
    "circles.head(10)"
   ]
  },
  {
   "cell_type": "code",
   "execution_count": null,
   "metadata": {},
   "outputs": [],
   "source": [
    "plt.scatter(x=X[:, 0], y=X[:, 1], c=y, cmap=plt.colormaps['RdYlBu']);"
   ]
  },
  {
   "cell_type": "markdown",
   "metadata": {},
   "source": [
    "### Convert to Tensors"
   ]
  },
  {
   "cell_type": "code",
   "execution_count": null,
   "metadata": {},
   "outputs": [],
   "source": [
    "X = torch.from_numpy(X).to(device=device, dtype=torch.float)\n",
    "y = torch.from_numpy(y).to(device=device, dtype=torch.float)"
   ]
  },
  {
   "cell_type": "markdown",
   "metadata": {},
   "source": [
    "### Split into training and test sets"
   ]
  },
  {
   "cell_type": "code",
   "execution_count": null,
   "metadata": {},
   "outputs": [],
   "source": [
    "X_train, X_test, y_train, y_test = train_test_split(X, y, test_size=0.2, random_state=42)\n",
    "\n",
    "len(X_train), len(X_test), len(y_train), len(y_test)"
   ]
  },
  {
   "cell_type": "markdown",
   "metadata": {},
   "source": [
    "# Building a model"
   ]
  },
  {
   "cell_type": "code",
   "execution_count": null,
   "metadata": {},
   "outputs": [],
   "source": [
    "class CircleModelV0(nn.Module):\n",
    "    def __init__(self):\n",
    "        super().__init__()\n",
    "        \n",
    "        # takes in the coordinate pair (X) and produces 5 features\n",
    "        self.layer_1 = nn.Linear(in_features=2, out_features=5)\n",
    "        \n",
    "        # takes in the 5 features and produces the result (y)\n",
    "        self.layer_2 = nn.Linear(in_features=5, out_features=1)\n",
    "    \n",
    "    def forward(self, x):\n",
    "        return self.layer_2(self.layer_1(x))"
   ]
  },
  {
   "cell_type": "code",
   "execution_count": null,
   "metadata": {},
   "outputs": [],
   "source": [
    "model_0 = CircleModelV0().to(device)\n",
    "print(model_0)\n",
    "\n",
    "# Use nn.Sequential to replicate the functionality of the CircleModel\n",
    "torch.manual_seed(42)\n",
    "model_0 = nn.Sequential(\n",
    "    nn.Linear(in_features=2, out_features=10),\n",
    "    nn.Linear(in_features=10, out_features=10),\n",
    "    nn.Linear(in_features=10, out_features=1)\n",
    ").to(device)\n",
    "print(model_0)\n",
    "\n",
    "model_0.state_dict()"
   ]
  },
  {
   "cell_type": "code",
   "execution_count": null,
   "metadata": {},
   "outputs": [],
   "source": [
    "with torch.inference_mode():\n",
    "    preds = model_0(X_test)\n",
    "print(f\"Length of predictions: {len(preds)}, Shape: {preds.shape}\")\n",
    "print(f\"Length of test labels: {len(y_test)}, Shape: {y_test.shape}\")\n",
    "\n",
    "print(f\"\\nFirst 10 predictions:\\n{torch.round(preds[:10])}\")\n",
    "print(f\"\\nFirst 10 test labels:\\n{y_test[:10]}\")\n"
   ]
  },
  {
   "cell_type": "markdown",
   "metadata": {},
   "source": [
    "## Setup loss function and optimizer"
   ]
  },
  {
   "cell_type": "code",
   "execution_count": null,
   "metadata": {},
   "outputs": [],
   "source": [
    "# measures how wrong the predictions are\n",
    "loss_fn = nn.BCEWithLogitsLoss()\n",
    "\n",
    "# updates the model parameters to best lower the loss\n",
    "optimizer = torch.optim.SGD(params=model_0.parameters(), lr=0.1)\n",
    "\n",
    "# calculates how accurate the predictions are\n",
    "def accuracy_fn(y_true, y_pred):\n",
    "    correct = torch.eq(y_true, y_pred).sum().item()\n",
    "    accuracy = (correct / len(y_pred)) * 100\n",
    "    return accuracy"
   ]
  },
  {
   "cell_type": "code",
   "execution_count": null,
   "metadata": {},
   "outputs": [],
   "source": [
    "# y_logits = model_0(X_test)[:5]\n",
    "# y_pred_probs = torch.sigmoid(y_logits)\n",
    "# y_preds = torch.round(y_pred_probs)\n",
    "\n",
    "with torch.inference_mode():\n",
    "    y_pred_labels = torch.round(torch.sigmoid(model_0(X_test)[:5]))\n",
    "\n",
    "y_pred_labels.squeeze(), y_test[:5], torch.eq(y_pred_labels.squeeze(), y_test[:5])"
   ]
  },
  {
   "cell_type": "markdown",
   "metadata": {},
   "source": [
    "# Training and Testing Loops"
   ]
  },
  {
   "cell_type": "code",
   "execution_count": null,
   "metadata": {},
   "outputs": [],
   "source": [
    "epochs = 1000\n",
    "\n",
    "for epoch in range(epochs):\n",
    "    ### Training ###\n",
    "    \n",
    "    # Model Training Mode\n",
    "    model_0.train()\n",
    "    \n",
    "    # Forward pass\n",
    "    y_logits = model_0(X_train).squeeze()\n",
    "    y_pred = torch.round(torch.sigmoid(y_logits))\n",
    "    \n",
    "    # Calculate loss and accuracy\n",
    "    loss = loss_fn(y_logits, y_train)\n",
    "    accuracy = accuracy_fn(y_true=y_train, y_pred=y_pred)\n",
    "    \n",
    "    # Optimizer zero grad\n",
    "    optimizer.zero_grad()\n",
    "    \n",
    "    # Backpropagation on the loss\n",
    "    loss.backward()\n",
    "    \n",
    "    # Update optimizer\n",
    "    optimizer.step()\n",
    "    \n",
    "    ### Testing ###\n",
    "    model_0.eval()\n",
    "    \n",
    "    with torch.inference_mode():\n",
    "        # Forward pass\n",
    "        test_logits = model_0(X_test).squeeze()\n",
    "        test_pred = torch.round(torch.sigmoid(test_logits))\n",
    "        \n",
    "        # Calculate loss and accuracy\n",
    "        test_loss = loss_fn(test_logits, y_test)\n",
    "        test_accuracy = accuracy_fn(y_true=y_test, y_pred=test_pred)\n",
    "        \n",
    "    if epoch % 10 == 0:\n",
    "        print(f\"Epoch: {epoch} | Loss: {loss:.5f}, Accuracy: {accuracy:.2f}% | Test Loss: {test_loss:.5f}, Test Accuracy: {test_accuracy:.2f}% \")"
   ]
  },
  {
   "cell_type": "markdown",
   "metadata": {},
   "source": [
    "### Model is trying to calculate a circle using a straight line (bad)"
   ]
  },
  {
   "cell_type": "code",
   "execution_count": null,
   "metadata": {},
   "outputs": [],
   "source": [
    "plt.figure(figsize=(12, 6))\n",
    "plt.subplot(1, 2, 1)\n",
    "plt.title(\"Train\")\n",
    "plot_decision_boundary(model_0, X_train, y_train)\n",
    "plt.subplot(1, 2, 2)\n",
    "plt.title(\"Test\")\n",
    "plot_decision_boundary(model_0, X_test, y_test)"
   ]
  },
  {
   "cell_type": "code",
   "execution_count": null,
   "metadata": {},
   "outputs": [],
   "source": [
    "class CircleModelV1(nn.Module):\n",
    "    def __init__(self):\n",
    "        super().__init__()\n",
    "        self.layer_1 = nn.Linear(in_features=2, out_features=10)\n",
    "        self.layer_2 = nn.Linear(in_features=10, out_features=10)\n",
    "        self.layer_3 = nn.Linear(in_features=10, out_features=1)\n",
    "        self.relu = nn.ReLU()\n",
    "    \n",
    "    def forward(self, x):\n",
    "        return self.layer_3(self.relu(self.layer_2(self.relu(self.layer_1(x)))))\n",
    "    \n",
    "model_1 = CircleModelV1().to(device)"
   ]
  },
  {
   "cell_type": "code",
   "execution_count": null,
   "metadata": {},
   "outputs": [],
   "source": [
    "loss_fn = nn.BCEWithLogitsLoss()\n",
    "optimizer = torch.optim.SGD(model_1.parameters(), lr=0.1)"
   ]
  },
  {
   "cell_type": "code",
   "execution_count": null,
   "metadata": {},
   "outputs": [],
   "source": [
    "epochs = 3000\n",
    "\n",
    "for epoch in range(epochs):\n",
    "    ### Training ###\n",
    "    model_1.train()\n",
    "    \n",
    "    # Forward pass\n",
    "    y_logits = model_1(X_train).squeeze()\n",
    "    y_pred = torch.round(torch.sigmoid(y_logits))\n",
    "    \n",
    "    # Calculate loss\n",
    "    loss = loss_fn(y_logits, y_train)\n",
    "    accuracy = accuracy_fn(y_true=y_train, y_pred=y_pred)\n",
    "    \n",
    "    # Optimizer zero grad\n",
    "    optimizer.zero_grad()\n",
    "    \n",
    "    # Backpropagation on the loss\n",
    "    loss.backward()\n",
    "    \n",
    "    # Update optimizer\n",
    "    optimizer.step()\n",
    "    \n",
    "    ### Testing ###\n",
    "    model_1.eval()\n",
    "    \n",
    "    with torch.inference_mode():\n",
    "        # Forward pass\n",
    "        test_logits = model_1(X_test).squeeze()\n",
    "        test_pred = torch.round(torch.sigmoid(test_logits))\n",
    "        \n",
    "        # Calculate loss and accuracy\n",
    "        test_loss = loss_fn(test_logits, y_test)\n",
    "        test_accuracy = accuracy_fn(y_true=y_test, y_pred=test_pred)\n",
    "        \n",
    "    if epoch % 300 == 0:\n",
    "        print(f\"Epoch: {epoch} | Loss: {loss:.5f}, Accuracy: {accuracy:.2f}% | Test Loss: {test_loss:.5f}, Test Accuracy: {test_accuracy:.2f}%\")\n",
    "    "
   ]
  },
  {
   "cell_type": "code",
   "execution_count": null,
   "metadata": {},
   "outputs": [],
   "source": [
    "plt.figure(figsize=(12, 6))\n",
    "plt.subplot(1, 2, 1)\n",
    "plt.title(\"Without Non-Linear Activation\")\n",
    "plot_decision_boundary(model_0, X_test, y_test)\n",
    "plt.subplot(1, 2, 2)\n",
    "plt.title(\"With Non-Linear Activation\")\n",
    "plot_decision_boundary(model_1, X_test, y_test)"
   ]
  },
  {
   "cell_type": "markdown",
   "metadata": {},
   "source": [
    "### Save binary classification model"
   ]
  },
  {
   "cell_type": "code",
   "execution_count": null,
   "metadata": {},
   "outputs": [],
   "source": [
    "MODEL_NAME = \"binary_classification_model.pth\"\n",
    "MODEL_SAVE_PATH = MODEL_PATH / MODEL_NAME\n",
    "\n",
    "print(f\"Saving model to: {MODEL_SAVE_PATH}\")\n",
    "torch.save(obj=model_1.state_dict(), f=MODEL_SAVE_PATH)"
   ]
  },
  {
   "cell_type": "markdown",
   "metadata": {},
   "source": [
    "# Replicating Non-Linear Activation Functions"
   ]
  },
  {
   "cell_type": "code",
   "execution_count": null,
   "metadata": {},
   "outputs": [],
   "source": [
    "def relu(x):\n",
    "    return torch.maximum(torch.tensor(0), x)\n",
    "\n",
    "def sigmoid(x):\n",
    "    return 1 / (1 + torch.exp(-x))"
   ]
  },
  {
   "cell_type": "code",
   "execution_count": null,
   "metadata": {},
   "outputs": [],
   "source": [
    "A = torch.arange(-10, 10, 1, dtype=torch.float)\n",
    "plt.plot(A)\n",
    "A"
   ]
  },
  {
   "cell_type": "code",
   "execution_count": null,
   "metadata": {},
   "outputs": [],
   "source": [
    "plt.plot(relu(A))\n",
    "relu(A)"
   ]
  },
  {
   "cell_type": "code",
   "execution_count": null,
   "metadata": {},
   "outputs": [],
   "source": [
    "plt.plot(sigmoid(A))\n",
    "sigmoid(A)"
   ]
  },
  {
   "cell_type": "markdown",
   "metadata": {},
   "source": [
    "# Multi-class model"
   ]
  },
  {
   "cell_type": "markdown",
   "metadata": {},
   "source": [
    "### Creating multi-class classification data"
   ]
  },
  {
   "cell_type": "code",
   "execution_count": null,
   "metadata": {},
   "outputs": [],
   "source": [
    "NUM_CLASSES = 4\n",
    "NUM_FEATURES = 2\n",
    "RANDOM_SEED = 42\n",
    "\n",
    "# Create multi-class data\n",
    "X, y = make_blobs(\n",
    "    n_samples=1000, n_features=NUM_FEATURES, \n",
    "    centers=NUM_CLASSES, cluster_std=1.5, random_state=RANDOM_SEED\n",
    ")\n",
    "\n",
    "# Turn data into tensors\n",
    "X = torch.from_numpy(X).type(torch.float).to(device)\n",
    "y = torch.from_numpy(y).type(torch.long).to(device)\n",
    "\n",
    "# Split into train and test sets\n",
    "X_train, X_test, y_train, y_test = train_test_split(X, y, test_size=0.2, random_state=RANDOM_SEED)\n",
    "\n",
    "# Plot data\n",
    "plt.figure(figsize=(10, 7))\n",
    "plt.scatter(X[:, 0].cpu(), X[:, 1].cpu(), c=y.cpu(), cmap=plt.colormaps['RdYlBu']);"
   ]
  },
  {
   "cell_type": "markdown",
   "metadata": {},
   "source": [
    "### Build model"
   ]
  },
  {
   "cell_type": "code",
   "execution_count": null,
   "metadata": {},
   "outputs": [],
   "source": [
    "class BlobModel(nn.Module):\n",
    "    def __init__(self, input_features, output_features, hidden_units=8):\n",
    "        super().__init__()\n",
    "        self.layer_stack = nn.Sequential(\n",
    "            nn.Linear(in_features=input_features, out_features=hidden_units),\n",
    "            nn.ReLU(),\n",
    "            nn.Linear(in_features=hidden_units, out_features=hidden_units),\n",
    "            nn.ReLU(),\n",
    "            nn.Linear(in_features=hidden_units, out_features=output_features)\n",
    "        )\n",
    "        \n",
    "    def forward(self, x):\n",
    "        return self.layer_stack(x)\n",
    "    \n",
    "model_2 = BlobModel(input_features=NUM_FEATURES, output_features=NUM_CLASSES).to(device)"
   ]
  },
  {
   "cell_type": "markdown",
   "metadata": {},
   "source": [
    "### Create loss function and optimizer"
   ]
  },
  {
   "cell_type": "code",
   "execution_count": null,
   "metadata": {},
   "outputs": [],
   "source": [
    "loss_fn = nn.CrossEntropyLoss()\n",
    "optimizer = torch.optim.SGD(model_2.parameters(), lr=0.1)"
   ]
  },
  {
   "cell_type": "markdown",
   "metadata": {},
   "source": [
    "### Training and testing loop"
   ]
  },
  {
   "cell_type": "code",
   "execution_count": null,
   "metadata": {},
   "outputs": [],
   "source": [
    "epochs = 3000\n",
    "\n",
    "for epoch in range(epochs):\n",
    "    ### Training ###\n",
    "    model_2.train()\n",
    "    \n",
    "    # Forward pass\n",
    "    y_logits = model_2(X_train)\n",
    "    y_pred = torch.softmax(y_logits, dim=1).argmax(dim=1) # logits -> prediction probabilities -> prediction labels\n",
    "    \n",
    "    # Calculate loss and accuracy\n",
    "    loss = loss_fn(y_logits, y_train)\n",
    "    accuracy = accuracy_fn(y_true=y_train, y_pred=y_pred)\n",
    "    \n",
    "    # Optimizer zero grad\n",
    "    optimizer.zero_grad()\n",
    "    \n",
    "    # Backpropagation on the loss\n",
    "    loss.backward()\n",
    "    \n",
    "    # Update optimizer\n",
    "    optimizer.step()\n",
    "    \n",
    "    ### Testing###\n",
    "    model_2.eval()\n",
    "    \n",
    "    with torch.inference_mode():\n",
    "        # Forward pass\n",
    "        test_logits = model_2(X_test)\n",
    "        test_pred = torch.softmax(test_logits, dim=1).argmax(dim=1)\n",
    "        \n",
    "        # Calculate loss and accuracy\n",
    "        test_loss = loss_fn(test_logits, y_test)\n",
    "        test_accuracy = accuracy_fn(y_true=y_test, y_pred=test_pred)\n",
    "        \n",
    "    if epoch % 250 == 0:\n",
    "        print(f\"Epoch: {epoch} | Loss: {loss:.5f}, Accuracy: {accuracy:.2f}% | Test Loss: {test_loss:.5f}, Test Accuracy: {test_accuracy:.2f}%\")\n",
    "    "
   ]
  },
  {
   "cell_type": "code",
   "execution_count": null,
   "metadata": {},
   "outputs": [],
   "source": [
    "plt.figure(figsize=(12, 6))\n",
    "plot_decision_boundary(model_2, X_test, y_test)"
   ]
  },
  {
   "cell_type": "markdown",
   "metadata": {},
   "source": [
    "### Saving multi-class classifcation model"
   ]
  },
  {
   "cell_type": "code",
   "execution_count": null,
   "metadata": {},
   "outputs": [],
   "source": [
    "MODEL_NAME = \"multi_class_classification_model.pth\"\n",
    "MODEL_SAVE_PATH = MODEL_PATH / MODEL_NAME\n",
    "\n",
    "print(f\"Saving model to: {MODEL_SAVE_PATH}\")\n",
    "torch.save(obj=model_2.state_dict(), f=MODEL_SAVE_PATH)"
   ]
  }
 ],
 "metadata": {
  "kernelspec": {
   "display_name": ".venv",
   "language": "python",
   "name": "python3"
  },
  "language_info": {
   "codemirror_mode": {
    "name": "ipython",
    "version": 3
   },
   "file_extension": ".py",
   "mimetype": "text/x-python",
   "name": "python",
   "nbconvert_exporter": "python",
   "pygments_lexer": "ipython3",
   "version": "3.11.4"
  }
 },
 "nbformat": 4,
 "nbformat_minor": 2
}
