{
 "cells": [
  {
   "cell_type": "markdown",
   "metadata": {},
   "source": [
    "# Image Segmentation\n",
    "Image segmentation partitions an image into regions called segments and creates segments by analyzing some similarity criteria (such as intensity, color, texture, histogram, or features).\n",
    "\n",
    "### Image Segmentation Methods\n",
    "- Thresholding (binarization, otsu)\n",
    "- Region-based (region growing, region splitting)\n",
    "- Clustering (k-means, mean-shift)\n",
    "- Graph-based (graph-cut, random walk)\n",
    "- Shape-based (level set, active contours)\n",
    "- Energy minimization (MRF)\n",
    "- Machine Learning-based"
   ]
  },
  {
   "cell_type": "markdown",
   "metadata": {},
   "source": [
    "# Threshold\n",
    "### Binarization\n",
    "Image binarization applies often just one global threshold $T$ for mapping a scalar image $I$ into a binary image with black and white. The global threshold can be identified by an optimization strategy aiming at creating \"large\" connected regions and reducing the number of small-sized regions, called *artifacts*.\n",
    "\n",
    "Useful for when the histogram of the intensity levels has a valley where there is not many pixels at the threshold and there are peaks on the left and right of the threshold, representing the darker and brighter objects.\n",
    "\n",
    "### Otsu\n",
    "Otsu uses grey-value histogram of the given image $I$ as input and aims at providing the best threshold\n",
    "Otsu's algorithm selects a threshold that maximizes the between-class variance $\\sigma_b^2$.\n",
    "\n",
    "For example, with two classes, $\\sigma_b^2=P_1(\\mu_1-\\mu)^2+P_2(\\mu_2-\\mu)^2=P_1P_2(\\mu_1-\\mu_2)^2$ where $P_1$ and $P_2$ are the class probabilities, and $\\mu_i$ is the means of object and background classes."
   ]
  },
  {
   "cell_type": "markdown",
   "metadata": {},
   "source": [
    "# Region-based Methods\n",
    "### Region Growing\n",
    "To build a segment, start at one *seed pixel* and recursively add adjacent pixels that satisfy a \"similarity criterion\" with the pixels already included.\n",
    "\n",
    "Similarity Criterion:\n",
    "1. The absolute difference between a candidate pixel and the seed pixel must lie within a specified range\n",
    "2. The absolute intensity difference between a candidate pixel and the running average intensity of the growing region must lie within a specified range\n",
    "3. The difference between the standard deviation in intensity over a specified local neighborhood of the candidate pixel and that over a local neighborhood of the candidate pixel must exceed a certain threshold.\n",
    "\n",
    "### Region Splitting\n",
    "Start with the whole image as a single region and recursively divide it into sub-regions while a condition of homogeneity is not satisfied.\n",
    "\n",
    "Construct a region adjacency graph as a quadtree for splitting.\n",
    "\n",
    "Algorithm:\n",
    "1. If a region $R$ is inhomogeneous ($P(R)=FALSE$), then $R$ is split into four sub-regions and algorithm is ran on sub-regions\n",
    "2. If two adjacent regions $R_i$, $R_j$ are homogeneous ($P(R_i\\cup R_j)=TRUE$), they are merged\n",
    "3. The algorithm stops when no further splitting or merging is possible"
   ]
  },
  {
   "cell_type": "markdown",
   "metadata": {},
   "source": [
    "# Clustering\n",
    "### K-means\n",
    "Start with some initial cluster centers, one for each pre-defined category (try out multiple starting points since some seeds can result in poor convergence rate). Loop until none of the centers have changed in an iteration or until a counter is passed:\n",
    "1. Assign each example to the closest center\n",
    "2. Recalculate centers as the mean of the points in a cluster\n",
    "\n",
    "K-means tries to minimize the sum of the squared distances from each point to the associated cluster center.\n",
    "\n",
    "SLIC Algorithm\n",
    "1. Initialize cluster centers on pixel grid in steps, $S$\n",
    "2. Move centers to position in 3x3 window with smallest gradient\n",
    "3. Compare each pixel to cluster center within $2S$ pixel distance and assign to nearest\n",
    "4. Recompute cluster centers as mean color/position of pixels belonging to each cluster\n",
    "5. Repeat steps 3-4 until residual error is small\n",
    "\n",
    "### Mean-Shift\n",
    "Attempts to find all possible cluster centers in feature space which resolves the issue with K-means where the number of clusters has to be pre-defined. The mean shift algorithm seeks local maximas of density in the feature space.\n",
    "\n",
    "1. Choose kernel and bandwidth\n",
    "2. For each point:\n",
    "    - Center a window on that point\n",
    "    - Compute the mean of the data in the search window\n",
    "    - Center the search window at the new mean location\n",
    "    - Repeat until window does not move anymore\n",
    "\n",
    "All of the points will be a part of the cluster that it has converged to."
   ]
  }
 ],
 "metadata": {
  "language_info": {
   "name": "python"
  }
 },
 "nbformat": 4,
 "nbformat_minor": 2
}
