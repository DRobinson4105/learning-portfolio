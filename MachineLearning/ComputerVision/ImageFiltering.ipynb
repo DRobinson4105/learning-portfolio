{
 "cells": [
  {
   "cell_type": "markdown",
   "metadata": {},
   "source": [
    "### Correlation\n",
    "Convolution is a filtering operation that expresses the amount of overlap of one function as it is shifted over another function.\n",
    "$$f \\otimes h = \\sum_k\\sum_l f(k, l)h(k, l)$$\n",
    "\n",
    "### Convolution\n",
    "Correlation compares the similarity of two sets of data\n",
    "$$f * h = \\sum_k\\sum_l f(k, l)h(-k, -l)$$\n",
    "\n",
    "### Gaussian filter\n",
    "Used for blurring images\n",
    "- 1D: $g(x)=e^\\frac{-x^2}{2\\sigma ^2}$\n",
    "- 2D: $g(x, y)=e^\\frac{-(x^2 + y^2)}{2\\sigma ^2}$"
   ]
  },
  {
   "cell_type": "code",
   "execution_count": null,
   "metadata": {},
   "outputs": [],
   "source": [
    "import torch\n",
    "import torch.nn.functional as F\n",
    "from torchvision import transforms\n",
    "from PIL import Image\n",
    "import matplotlib.pyplot as plt\n",
    "\n",
    "device = torch.device(\"cuda\" if torch.cuda.is_available() else \"cpu\")"
   ]
  },
  {
   "cell_type": "code",
   "execution_count": null,
   "metadata": {},
   "outputs": [],
   "source": [
    "def gaussian_blur(image_tensor: torch.Tensor, kernel_size=5, sigma=1.0):\n",
    "    channels, height, width = image_tensor.size()\n",
    "\n",
    "    # Create 2D Gaussian kernel\n",
    "    grid = torch.linspace(-kernel_size // 2 + 1, kernel_size // 2, kernel_size)\n",
    "    gaussian_kernel = torch.exp(-((grid[:, None] ** 2 + grid[None, :] ** 2) / (2 * sigma ** 2)))\n",
    "    gaussian_kernel /= gaussian_kernel.sum()\n",
    "\n",
    "    # Create a 4D weight tensor for convolution\n",
    "    gaussian_kernel = gaussian_kernel.expand(channels, 1, kernel_size, kernel_size)\n",
    "    weight = gaussian_kernel.to(device)\n",
    "\n",
    "    # Apply Gaussian blur\n",
    "    image_tensor = image_tensor.unsqueeze(0)\n",
    "    blurred_image = F.conv2d(image_tensor, weight, padding=kernel_size // 2, groups=channels)\n",
    "    return blurred_image.squeeze(0)\n",
    "\n",
    "def gaussian_noise(image_tensor: torch.Tensor, mean=0.0, std=0.1):\n",
    "    noise = torch.randn(image_tensor.size(), device=device) * std + mean\n",
    "    noisy_image = image_tensor + noise\n",
    "    \n",
    "    return torch.clamp(noisy_image, 0, 1)"
   ]
  },
  {
   "cell_type": "code",
   "execution_count": null,
   "metadata": {},
   "outputs": [],
   "source": [
    "toTensor = transforms.ToTensor()\n",
    "toImage = transforms.ToPILImage()\n",
    "toGrayscale = transforms.Grayscale()"
   ]
  },
  {
   "cell_type": "code",
   "execution_count": null,
   "metadata": {},
   "outputs": [],
   "source": [
    "image = Image.open(\"img1.png\")\n",
    "\n",
    "# Create tensors for original image, blurred image, and noisy image\n",
    "image_tensor = toGrayscale(toTensor(image)[0:3]).to(device)\n",
    "blurred_image_tensor = gaussian_blur(image_tensor)\n",
    "noisy_image_tensor = gaussian_noise(image_tensor)\n",
    "\n",
    "# Generate images from tensors\n",
    "image = toImage(image_tensor)\n",
    "blurred_image = toImage(blurred_image_tensor)\n",
    "noisy_image = toImage(noisy_image_tensor)"
   ]
  },
  {
   "cell_type": "markdown",
   "metadata": {},
   "source": [
    "### Display images"
   ]
  },
  {
   "cell_type": "code",
   "execution_count": null,
   "metadata": {},
   "outputs": [],
   "source": [
    "plt.figure(figsize=(12, 5))\n",
    "\n",
    "plt.subplot(1, 3, 1)\n",
    "plt.imshow(image, 'gray')\n",
    "plt.axis('off')\n",
    "\n",
    "plt.subplot(1, 3, 2)\n",
    "plt.imshow(blurred_image, 'gray')\n",
    "plt.axis('off')\n",
    "\n",
    "plt.subplot(1, 3, 3)\n",
    "plt.imshow(noisy_image, 'gray')\n",
    "plt.axis('off')\n",
    "\n",
    "plt.show()"
   ]
  }
 ],
 "metadata": {
  "kernelspec": {
   "display_name": ".venv",
   "language": "python",
   "name": "python3"
  },
  "language_info": {
   "codemirror_mode": {
    "name": "ipython",
    "version": 3
   },
   "file_extension": ".py",
   "mimetype": "text/x-python",
   "name": "python",
   "nbconvert_exporter": "python",
   "pygments_lexer": "ipython3",
   "version": "3.11.9"
  }
 },
 "nbformat": 4,
 "nbformat_minor": 2
}
