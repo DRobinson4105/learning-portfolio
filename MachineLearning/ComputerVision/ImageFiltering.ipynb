{
 "cells": [
  {
   "cell_type": "markdown",
   "metadata": {},
   "source": [
    "# Correlation and Convolution\n",
    "Convolution is a filtering operation that expresses the amount of overlap of one function as it is shifted over another function.\n",
    "$$f \\otimes h = \\sum_k\\sum_l f(k, l)h(k, l)$$\n",
    "\n",
    "Correlation compares the similarity of two sets of data\n",
    "$$f * h = \\sum_k\\sum_l f(k, l)h(-k, -l)$$\n",
    "\n",
    "# Gaussian\n",
    "### Gaussian Filter\n",
    "Used for blurring images\n",
    "- 1D: $g(x)=e^\\frac{-x^2}{2\\sigma ^2}$\n",
    "- 2D: $g(x, y)=e^\\frac{-(x^2 + y^2)}{2\\sigma ^2}$\n",
    "\n",
    "### Laplacian of Gaussian\n",
    "Detects edges through zero crossings\n",
    "- 1D: $LoG(x)=-\\frac{1}{\\pi\\sigma ^4}\\Big[ 1-\\frac{x^2}{2\\sigma ^2}\\Big]e^\\frac{-x^2}{2\\sigma ^2}$\n",
    "- 2D: $LoG(x, y)=-\\frac{1}{\\pi\\sigma ^4}\\Big[ 1-\\frac{x^2 + y^2}{2\\sigma ^2}\\Big]e^\\frac{-(x^2 + y^2)}{2\\sigma ^2}$"
   ]
  },
  {
   "cell_type": "code",
   "execution_count": null,
   "metadata": {},
   "outputs": [],
   "source": [
    "import torch\n",
    "import torch.nn.functional as F\n",
    "from torchvision import transforms\n",
    "from PIL import Image\n",
    "import matplotlib.pyplot as plt\n",
    "\n",
    "device = torch.device(\"cuda\" if torch.cuda.is_available() else \"cpu\")"
   ]
  },
  {
   "cell_type": "code",
   "execution_count": null,
   "metadata": {},
   "outputs": [],
   "source": [
    "def gaussian_blur(image_tensor: torch.Tensor, kernel_size=5, sigma=1.0):\n",
    "    ax = torch.arange(-kernel_size // 2 + 1.0, kernel_size // 2 + 1.0, device=device, dtype=torch.float)\n",
    "    xx, yy = torch.meshgrid(ax, ax, indexing=None)\n",
    "\n",
    "    # Build gaussian kernel using formula\n",
    "    gaussian_kernel = torch.exp(-0.5 * (xx ** 2 + yy ** 2) / sigma ** 2)\n",
    "    gaussian_kernel /= gaussian_kernel.sum()\n",
    "\n",
    "    # Add batch and channel dimensions\n",
    "    image_tensor = image_tensor.unsqueeze(0)\n",
    "    gaussian_kernel = gaussian_kernel.view(1, 1, kernel_size, kernel_size)\n",
    "    blurred_image_tensor = F.conv2d(image_tensor, gaussian_kernel, padding=kernel_size // 2)\n",
    "    return blurred_image_tensor.squeeze(0)\n",
    "\n",
    "def gaussian_noise(image_tensor: torch.Tensor, mean=0.0, std=0.1):\n",
    "    noise = torch.randn(image_tensor.size(), device=device) * std + mean\n",
    "    noisy_image = image_tensor + noise\n",
    "    \n",
    "    return torch.clamp(noisy_image, 0, 1)\n",
    "\n",
    "def laplacian_of_gaussian(image_tensor: torch.Tensor, kernel_size=5, sigma=1.0):\n",
    "    # Get x and y\n",
    "    ax = torch.arange(-kernel_size // 2 + 1.0, kernel_size // 2 + 1.0, device=device, dtype=torch.float)\n",
    "    xx, yy = torch.meshgrid(ax, ax, indexing=None)\n",
    "\n",
    "    # Build gaussian kernel using formula\n",
    "    gaussian_kernel = torch.exp(-0.5 * (xx**2 + yy**2) / sigma**2)\n",
    "    gaussian_kernel /= gaussian_kernel.sum()\n",
    "    \n",
    "    # Apply laplacian operator to gaussian kernel\n",
    "    log_kernel = -1 // (torch.pi * sigma ** 4) * (1 - (xx ** 2 + yy ** 2) / (2 * sigma ** 2)) * gaussian_kernel\n",
    "    log_kernel -= log_kernel.mean()\n",
    "\n",
    "    # Convolve image\n",
    "    log_kernel = log_kernel.view(1, 1, kernel_size, kernel_size)\n",
    "    log_image_tensor = F.conv2d(image_tensor, log_kernel, padding=kernel_size//2)\n",
    "    \n",
    "    return log_image_tensor.squeeze()"
   ]
  },
  {
   "cell_type": "code",
   "execution_count": null,
   "metadata": {},
   "outputs": [],
   "source": [
    "toTensor = transforms.ToTensor()\n",
    "toImage = transforms.ToPILImage()\n",
    "toGrayscale = transforms.Grayscale()"
   ]
  },
  {
   "cell_type": "code",
   "execution_count": null,
   "metadata": {},
   "outputs": [],
   "source": [
    "image = Image.open(\"img1.png\")\n",
    "\n",
    "# Create tensors for original image, blurred image, and noisy image\n",
    "image_tensor = toGrayscale(toTensor(image)[0:3]).to(device)\n",
    "blurred_image_tensor = gaussian_blur(image_tensor)\n",
    "noisy_image_tensor = gaussian_noise(image_tensor)\n",
    "log_image_tensor = laplacian_of_gaussian(image_tensor)\n",
    "\n",
    "# Generate images from tensors\n",
    "image = toImage(image_tensor)\n",
    "blurred_image = toImage(blurred_image_tensor)\n",
    "noisy_image = toImage(noisy_image_tensor)\n",
    "log_image = toImage(log_image_tensor)"
   ]
  },
  {
   "cell_type": "markdown",
   "metadata": {},
   "source": [
    "### Display images"
   ]
  },
  {
   "cell_type": "code",
   "execution_count": null,
   "metadata": {},
   "outputs": [],
   "source": [
    "plt.figure(figsize=(12, 5))\n",
    "\n",
    "plt.subplot(1, 4, 1)\n",
    "plt.imshow(image, 'gray')\n",
    "plt.axis('off')\n",
    "plt.title('Original')\n",
    "\n",
    "plt.subplot(1, 4, 2)\n",
    "plt.imshow(blurred_image, 'gray')\n",
    "plt.axis('off')\n",
    "plt.title('Blurred')\n",
    "\n",
    "plt.subplot(1, 4, 3)\n",
    "plt.imshow(noisy_image, 'gray')\n",
    "plt.axis('off')\n",
    "plt.title('Noisy')\n",
    "\n",
    "plt.subplot(1, 4, 4)\n",
    "plt.imshow(log_image, 'gray')\n",
    "plt.axis('off')\n",
    "plt.title('Laplacian of Gaussian')\n",
    "\n",
    "plt.show()"
   ]
  }
 ],
 "metadata": {
  "kernelspec": {
   "display_name": ".venv",
   "language": "python",
   "name": "python3"
  },
  "language_info": {
   "codemirror_mode": {
    "name": "ipython",
    "version": 3
   },
   "file_extension": ".py",
   "mimetype": "text/x-python",
   "name": "python",
   "nbconvert_exporter": "python",
   "pygments_lexer": "ipython3",
   "version": "3.11.9"
  }
 },
 "nbformat": 4,
 "nbformat_minor": 2
}
