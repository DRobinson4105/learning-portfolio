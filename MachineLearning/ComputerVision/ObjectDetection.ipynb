{
 "cells": [
  {
   "cell_type": "markdown",
   "metadata": {},
   "source": [
    "# R-CNN\n",
    "R-CNN: Propose regions first. Classify proposed regions one at a time. Output contains: label + bounding box.\n",
    "Fast R-CNN: Propose regions after the CNN. Use convolution implementation of sliding windows to classify all the proposed regions.\n",
    "Faster R-CNN: Use CNN to propose regions\n",
    "\n",
    "## R-CNN Training\n",
    "1. Train a classification model for a dataset (ImageNet)\n",
    "2. Fine-tune model for detection\n",
    "3. Extract features\n",
    "4. Train one binary SVM per class to classify region features\n",
    "5. For each class, train a linear regression model to map from cached features to offsets to ground truth boxes to make up for \"slightly wrong\" proposals"
   ]
  },
  {
   "cell_type": "code",
   "execution_count": null,
   "metadata": {},
   "outputs": [],
   "source": []
  },
  {
   "cell_type": "code",
   "execution_count": null,
   "metadata": {},
   "outputs": [],
   "source": [
    "import torch\n",
    "\n",
    "device = torch.device(\"cuda\" if torch.cuda.is_available() else \"cpu\")"
   ]
  }
 ],
 "metadata": {
  "kernelspec": {
   "display_name": ".venv",
   "language": "python",
   "name": "python3"
  },
  "language_info": {
   "name": "python",
   "version": "3.11.9"
  }
 },
 "nbformat": 4,
 "nbformat_minor": 2
}
