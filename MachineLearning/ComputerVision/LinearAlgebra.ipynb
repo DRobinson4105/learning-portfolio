{
 "cells": [
  {
   "cell_type": "markdown",
   "metadata": {},
   "source": [
    "# Vector operations\n",
    "- Norm\n",
    "  - size of the vector\n",
    "  - p-norm: $\\|x\\|_p=\\bigg(\\sum_i|a_i|^p\\bigg)^{\\frac{1}{p}}\\quad p\\geq1$\n",
    "  - Euclidean norm: $\\|x\\|_2=\\bigg(\\sum_i|a_i|^2\\bigg)^{\\frac{1}{2}}$\n",
    "  - L1-norm: $\\|x\\|_1=\\bigg(\\sum_i|a_i|\\bigg)$\n",
    "- Dot product\n",
    "  - Scalar number\n",
    "  - Multiply corresponding entries and add\n",
    "  - Examples:\n",
    "    - $\\mathbf{x}^T \\mathbf{y} = \\begin{bmatrix} x_1 & x_2 & \\cdots & x_n \\end{bmatrix} \\begin{bmatrix} y_1 \\\\ y_2 \\\\ \\vdots \\\\ y_n \\end{bmatrix} = \\sum_{k}^{n} x_k y_k$\n",
    "    - $\\mathbf{x}_i^T \\mathbf{x}_i=\\sum^n_k(x^i_k)^2=$ squared norm of $\\mathbf{x}_i$\n",
    "  - $x \\cdot y$ is also $|x||y|\\cos\\theta$ where $\\theta$ is the angle between $x$ and $y$\n",
    "\n",
    "# Matrix operations\n",
    "- Hadamard product\n",
    "  - performs element-wise multiplication by multiplying corresponding elements together\n",
    "  - requires two matrices of the same shape\n",
    "  - Example:\n",
    "$\\begin{bmatrix}\n",
    "a & b \\\\\n",
    "c & d \n",
    "\\end{bmatrix}\n",
    "\\odot\n",
    "\\begin{bmatrix}\n",
    "e & f \\\\\n",
    "g & h \n",
    "\\end{bmatrix}\n",
    "=\n",
    "\\begin{bmatrix}\n",
    "a \\cdot e & b \\cdot f \\\\\n",
    "c \\cdot g & d \\cdot h \n",
    "\\end{bmatrix}$\n",
    "- Vector rotation\n",
    "  - Matrix multiplication to rotate a vector\n",
    "  - Rotation matrix: $\\begin{bmatrix} x' \\\\ y' \\end{bmatrix}=\\begin{bmatrix} \\cos\\theta & -\\sin\\theta \\\\ \\sin\\theta & \\cos\\theta \\end{bmatrix} \\begin{bmatrix} x \\\\ y \\end{bmatrix}$\n",
    "  - Result: $x' = \\cos\\theta x - \\sin\\theta y$ and $y' = \\sin\\theta x + \\cos\\theta y$\n",
    "- Matrix factorization\n",
    "  - Singular value decomposition\n",
    "    - $A=U\\Sigma V^T$\n",
    "    - If $A$ is a $m \\times n$ matrix, then\n",
    "      - $U$ is $m \\times m$\n",
    "      - $\\Sigma$ is $m \\times n$\n",
    "      - $V$ is $n \\times n$\n",
    "    - Columns of $U$ are scaled by values in $\\Sigma$ and then linearly combined by $V$"
   ]
  }
 ],
 "metadata": {
  "language_info": {
   "name": "python"
  }
 },
 "nbformat": 4,
 "nbformat_minor": 2
}
