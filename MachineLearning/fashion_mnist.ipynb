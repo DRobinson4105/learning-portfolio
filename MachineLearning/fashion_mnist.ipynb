{
 "cells": [
  {
   "cell_type": "markdown",
   "metadata": {},
   "source": [
    "### Initialization"
   ]
  },
  {
   "cell_type": "code",
   "execution_count": null,
   "metadata": {},
   "outputs": [],
   "source": [
    "# Libraries\n",
    "import torch\n",
    "from torch import nn\n",
    "from torch.utils.data import DataLoader, ConcatDataset, SubsetRandomSampler\n",
    "from torchvision import datasets\n",
    "from torchvision.transforms import ToTensor\n",
    "from torchmetrics.classification import MulticlassAccuracy\n",
    "import matplotlib.pyplot as plt\n",
    "from pathlib import Path\n",
    "from timeit import default_timer as timer\n",
    "from tqdm.auto import tqdm\n",
    "from sklearn.model_selection import KFold\n",
    "from helper_functions import multi_class_predictions\n",
    "\n",
    "# Path to models directory\n",
    "MODEL_PATH = Path(\"models\")\n",
    "MODEL_PATH.mkdir(parents=True, exist_ok=True)\n",
    "MODEL_NAME = \"fashionMNIST_model.pth\"\n",
    "MODEL_SAVE_PATH = MODEL_PATH / MODEL_NAME\n",
    "\n",
    "# Device agnostic code\n",
    "device = torch.device(\"cuda\" if torch.cuda.is_available() else \"cpu\")\n",
    "\n",
    "print(f\"PyTorch: {torch.__version__}\")"
   ]
  },
  {
   "cell_type": "markdown",
   "metadata": {},
   "source": [
    "# Setup Data"
   ]
  },
  {
   "cell_type": "code",
   "execution_count": null,
   "metadata": {},
   "outputs": [],
   "source": [
    "BATCH_SIZE = 32\n",
    "NUM_SPLITS = 5\n",
    "\n",
    "# Training data\n",
    "train_dataset = datasets.FashionMNIST(\n",
    "    root=\"data\",\n",
    "    train=True,\n",
    "    download=True,\n",
    "    transform=ToTensor()\n",
    ")\n",
    "\n",
    "# Testing data\n",
    "test_dataset = datasets.FashionMNIST(\n",
    "    root=\"data\",\n",
    "    train=False,\n",
    "    download=True,\n",
    "    transform=ToTensor()\n",
    ")\n",
    "\n",
    "# Build set of dataloaders for k-fold cross validation\n",
    "dataset = ConcatDataset([train_dataset, test_dataset])\n",
    "kfold = KFold(n_splits=NUM_SPLITS, shuffle=True)\n",
    "classes = train_dataset.classes\n",
    "train_dataloaders = []\n",
    "test_dataloaders = []\n",
    "\n",
    "for fold, (train_ids, test_ids) in enumerate(kfold.split(dataset)):\n",
    "    train_subsampler = SubsetRandomSampler(train_ids)\n",
    "    test_subsampler = SubsetRandomSampler(test_ids)\n",
    "    \n",
    "    train_dataloaders.append(DataLoader(dataset, batch_size=BATCH_SIZE, sampler=train_subsampler))\n",
    "    test_dataloaders.append(DataLoader(dataset, batch_size=BATCH_SIZE, sampler=test_subsampler))"
   ]
  },
  {
   "cell_type": "markdown",
   "metadata": {},
   "source": [
    "### Visualize first batch"
   ]
  },
  {
   "cell_type": "code",
   "execution_count": null,
   "metadata": {},
   "outputs": [],
   "source": [
    "torch.manual_seed(42)\n",
    "fig = plt.figure(figsize=(18, 9))\n",
    "rows, cols = 4, 8\n",
    "\n",
    "# Get random batch\n",
    "batch_features, batch_labels = next(iter(train_dataloaders[0]))\n",
    "\n",
    "for i in range(0, 32):\n",
    "    img, label = batch_features[i], batch_labels[i]\n",
    "    fig.add_subplot(rows, cols, i + 1)\n",
    "    plt.imshow(img.squeeze(), cmap=\"gray\")\n",
    "    plt.title(classes[label])\n",
    "    plt.axis(False)"
   ]
  },
  {
   "cell_type": "markdown",
   "metadata": {},
   "source": [
    "# Build Convolutional Neural Network"
   ]
  },
  {
   "cell_type": "code",
   "execution_count": null,
   "metadata": {},
   "outputs": [],
   "source": [
    "class FashionMNISTCNN(nn.Module):\n",
    "    def __init__(self, input_shape: int, hidden1: int, hidden2: int, output_shape: int, imgsize: int):\n",
    "        super().__init__()\n",
    "        self.block_1 = nn.Sequential(\n",
    "            nn.Conv2d(in_channels=input_shape, out_channels=hidden1, kernel_size=3, padding=1),\n",
    "            nn.BatchNorm2d(hidden1),\n",
    "            nn.ReLU(),\n",
    "            nn.MaxPool2d(2)\n",
    "        )\n",
    "        self.block_2 = nn.Sequential(\n",
    "            nn.Conv2d(in_channels=hidden1, out_channels=hidden2, kernel_size=3, padding=1),\n",
    "            nn.BatchNorm2d(hidden2),\n",
    "            nn.ReLU(),\n",
    "            nn.MaxPool2d(2)\n",
    "        )\n",
    "        self.classifier = nn.Sequential(\n",
    "            nn.Flatten(),\n",
    "            nn.Linear(in_features=imgsize * 4, out_features=600),\n",
    "            nn.Dropout(0.25),\n",
    "            nn.Linear(in_features=600, out_features=120),\n",
    "            nn.Linear(in_features=120, out_features=output_shape)\n",
    "        )\n",
    "        self.layer_stack = nn.Sequential(\n",
    "            self.block_1,\n",
    "            self.block_2,\n",
    "            self.classifier\n",
    "        )\n",
    "\n",
    "    def forward(self, x: torch.Tensor) -> torch.Tensor:\n",
    "        return self.layer_stack(x)\n",
    "\n",
    "torch.manual_seed(42)\n",
    "model = FashionMNISTCNN(1, 32, 64, len(classes), 28 * 28).to(device)"
   ]
  },
  {
   "cell_type": "markdown",
   "metadata": {},
   "source": [
    "## Test Predictions before Training"
   ]
  },
  {
   "cell_type": "code",
   "execution_count": null,
   "metadata": {},
   "outputs": [],
   "source": [
    "batch_features, batch_labels = next(iter(train_dataloaders[0]))\n",
    "multi_class_predictions(model, batch_features, batch_labels, classes, device)"
   ]
  },
  {
   "cell_type": "markdown",
   "metadata": {},
   "source": [
    "### Loss function, optimizer, and evaluation metrics"
   ]
  },
  {
   "cell_type": "code",
   "execution_count": null,
   "metadata": {},
   "outputs": [],
   "source": [
    "loss_fn = nn.CrossEntropyLoss()\n",
    "optimizer = torch.optim.Adam(params=model.parameters(), lr=0.0001)\n",
    "acc_metric = MulticlassAccuracy(num_classes=len(classes)).to(device)"
   ]
  },
  {
   "cell_type": "markdown",
   "metadata": {},
   "source": [
    "### Train model"
   ]
  },
  {
   "cell_type": "code",
   "execution_count": null,
   "metadata": {},
   "outputs": [],
   "source": [
    "torch.manual_seed(42)\n",
    "start = timer()\n",
    "epochs = 100\n",
    "train_loss_values = []\n",
    "train_acc_values = []\n",
    "test_loss_values = []\n",
    "test_acc_values = []\n",
    "\n",
    "for epoch in tqdm(range(epochs)):\n",
    "    ### Training ###\n",
    "    model.train()\n",
    "    avg_train_loss, avg_train_acc = 0, 0\n",
    "    \n",
    "    # Loop through training batches\n",
    "    for X, y in train_dataloaders[epoch % NUM_SPLITS]:\n",
    "        # Transfer to correct device\n",
    "        X, y = X.to(device), y.to(device)\n",
    "        \n",
    "        # Forward pass\n",
    "        y_pred = model(X)\n",
    "        \n",
    "        # Calculate the loss\n",
    "        loss = loss_fn(y_pred, y)\n",
    "        acc = acc_metric(y_pred.argmax(dim=1), y) * 100\n",
    "\n",
    "        avg_train_loss += loss.detach().cpu().numpy()\n",
    "        avg_train_acc += acc.detach().cpu().numpy()\n",
    "        \n",
    "        # Perform backpropagation on the loss\n",
    "        optimizer.zero_grad()\n",
    "        loss.backward()\n",
    "        optimizer.step()\n",
    "    \n",
    "    avg_train_loss /= len(train_dataloaders[0])\n",
    "    avg_train_acc /= len(train_dataloaders[0])\n",
    "    train_loss_values.append(avg_train_loss)\n",
    "    train_acc_values.append(avg_train_acc)\n",
    "    \n",
    "    ### Testing ###\n",
    "    model.eval()\n",
    "    avg_test_loss, avg_test_acc = 0, 0\n",
    "    \n",
    "    with torch.inference_mode():\n",
    "        # Loop through testing batches\n",
    "        for X, y in test_dataloaders[epoch % NUM_SPLITS]:\n",
    "            # Transfer to correct device\n",
    "            X, y = X.to(device), y.to(device) \n",
    "            \n",
    "            # Forward pass\n",
    "            test_pred = model(X)\n",
    "            \n",
    "            # Calculate loss and accuracy\n",
    "            test_loss = loss_fn(test_pred, y)\n",
    "            test_acc = acc_metric(test_pred.argmax(dim=1), y) * 100\n",
    "            \n",
    "            avg_test_loss += test_loss.detach().cpu().numpy()\n",
    "            avg_test_acc += test_acc.detach().cpu().numpy()\n",
    "\n",
    "        avg_test_loss /= len(test_dataloaders[0])\n",
    "        avg_test_acc /= len(test_dataloaders[0])\n",
    "        test_loss_values.append(avg_test_loss)\n",
    "        test_acc_values.append(avg_test_acc)\n",
    "    \n",
    "end = timer()\n",
    "train_time = end - start\n",
    "print(f\"Final Loss: {avg_test_loss:.5f} | Final Accuracy: {avg_test_acc:.2f}%\")\n",
    "print(f\"Training Time: {(str(int(train_time / 60)) + ' min ') if train_time >= 60 else ''}{(train_time % 60):.3f} sec\")"
   ]
  },
  {
   "cell_type": "markdown",
   "metadata": {},
   "source": [
    "# Plot Loss and Accuracy Curves"
   ]
  },
  {
   "cell_type": "code",
   "execution_count": null,
   "metadata": {},
   "outputs": [],
   "source": [
    "plt.figure(figsize=(12, 6))\n",
    "plt.subplot(1, 2, 1)\n",
    "plt.title(\"Loss\")\n",
    "plt.plot(range(epochs), train_loss_values, label=\"Train\")\n",
    "plt.plot(range(epochs), test_loss_values, label=\"Test\")\n",
    "plt.legend()\n",
    "plt.subplot(1, 2, 2)\n",
    "plt.title(\"Accuracy\")\n",
    "plt.plot(range(epochs), train_acc_values, label=\"Train\")\n",
    "plt.plot(range(epochs), test_acc_values, label=\"Test\")\n",
    "plt.legend();"
   ]
  },
  {
   "cell_type": "markdown",
   "metadata": {},
   "source": [
    "# Save Model"
   ]
  },
  {
   "cell_type": "code",
   "execution_count": null,
   "metadata": {},
   "outputs": [],
   "source": [
    "print(f\"Saving model to: {MODEL_SAVE_PATH}\")\n",
    "torch.save(obj=model.state_dict(), f=MODEL_SAVE_PATH)"
   ]
  },
  {
   "cell_type": "markdown",
   "metadata": {},
   "source": [
    "## Test Predictions after Training"
   ]
  },
  {
   "cell_type": "code",
   "execution_count": null,
   "metadata": {},
   "outputs": [],
   "source": [
    "loaded_model_0 = FashionMNISTCNN(1, 32, 64, len(classes), 28 * 28).to(device)\n",
    "loaded_model_0.load_state_dict(torch.load(f=MODEL_SAVE_PATH))\n",
    "\n",
    "batch_features, batch_labels = next(iter(train_dataloaders[0]))\n",
    "multi_class_predictions(loaded_model_0, batch_features, batch_labels, classes, device)"
   ]
  }
 ],
 "metadata": {
  "kernelspec": {
   "display_name": ".venv",
   "language": "python",
   "name": "python3"
  },
  "language_info": {
   "codemirror_mode": {
    "name": "ipython",
    "version": 3
   },
   "file_extension": ".py",
   "mimetype": "text/x-python",
   "name": "python",
   "nbconvert_exporter": "python",
   "pygments_lexer": "ipython3",
   "version": "3.11.4"
  }
 },
 "nbformat": 4,
 "nbformat_minor": 2
}
